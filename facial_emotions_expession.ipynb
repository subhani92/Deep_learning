{
  "nbformat": 4,
  "nbformat_minor": 0,
  "metadata": {
    "colab": {
      "name": "facial_emotions_expession.ipynb",
      "provenance": [],
      "collapsed_sections": [],
      "toc_visible": true,
      "mount_file_id": "https://gist.github.com/subhani92/c6d30dcaf013d3af841af1933f024c80#file-emojify-ipynb",
      "authorship_tag": "ABX9TyOruyo8Uy22AbONb6sUUnWy",
      "include_colab_link": true
    },
    "kernelspec": {
      "name": "python3",
      "display_name": "Python 3"
    },
    "accelerator": "GPU"
  },
  "cells": [
    {
      "cell_type": "markdown",
      "metadata": {
        "id": "view-in-github",
        "colab_type": "text"
      },
      "source": [
        "<a href=\"https://colab.research.google.com/github/subhani92/Deep_learning/blob/master/facial_emotions_expession.ipynb\" target=\"_parent\"><img src=\"https://colab.research.google.com/assets/colab-badge.svg\" alt=\"Open In Colab\"/></a>"
      ]
    },
    {
      "cell_type": "markdown",
      "metadata": {
        "id": "vkZ2Wxw4ZEPA",
        "colab_type": "text"
      },
      "source": [
        "**imporing libraries**"
      ]
    },
    {
      "cell_type": "code",
      "metadata": {
        "id": "mkeKuG7SUjAD",
        "colab_type": "code",
        "colab": {
          "base_uri": "https://localhost:8080/",
          "height": 88
        },
        "outputId": "e6977bcc-23f1-4068-f092-77c7dbe2c147"
      },
      "source": [
        "import numpy as np\n",
        "import pandas as pd\n",
        "import cv2\n",
        "import seaborn as sns\n",
        "import matplotlib.pyplot as plt\n",
        "import os\n",
        "%matplotlib inline\n",
        "\n",
        "from tensorflow.keras.preprocessing.image import ImageDataGenerator, load_img, img_to_array\n",
        "from tensorflow.keras.utils import plot_model\n",
        "import plotly.graph_objects as go\n",
        "from plotly.subplots import make_subplots\n",
        "from IPython.display import SVG, Image\n",
        "import tensorflow as tf\n",
        "print(\"Tensorflow version:\", tf.__version__)"
      ],
      "execution_count": 10,
      "outputs": [
        {
          "output_type": "stream",
          "text": [
            "/usr/local/lib/python3.6/dist-packages/statsmodels/tools/_testing.py:19: FutureWarning: pandas.util.testing is deprecated. Use the functions in the public API at pandas.testing instead.\n",
            "  import pandas.util.testing as tm\n"
          ],
          "name": "stderr"
        },
        {
          "output_type": "stream",
          "text": [
            "Tensorflow version: 2.3.0\n"
          ],
          "name": "stdout"
        }
      ]
    },
    {
      "cell_type": "code",
      "metadata": {
        "id": "nuXLrkVhlv5k",
        "colab_type": "code",
        "colab": {
          "base_uri": "https://localhost:8080/",
          "height": 34
        },
        "outputId": "615a0fa6-d52f-4229-84a4-975908a58a08"
      },
      "source": [
        "!unzip -q '/content/drive/My Drive/deep_learning/786787_1351797_bundle_archive.zip'\n",
        "!ls"
      ],
      "execution_count": 9,
      "outputs": [
        {
          "output_type": "stream",
          "text": [
            "drive  sample_data  test  train\n"
          ],
          "name": "stdout"
        }
      ]
    },
    {
      "cell_type": "markdown",
      "metadata": {
        "id": "8Y-99MpYZDHi",
        "colab_type": "text"
      },
      "source": [
        "# preprocessing data set:"
      ]
    },
    {
      "cell_type": "code",
      "metadata": {
        "id": "vx31SaQuG57k",
        "colab_type": "code",
        "colab": {
          "base_uri": "https://localhost:8080/",
          "height": 51
        },
        "outputId": "479455be-0021-4fe8-fa2d-802773ae27c8"
      },
      "source": [
        "img_size = 48\n",
        "batch_size = 64\n",
        "train_datagen = ImageDataGenerator(rescale=1.0/255.0, horizontal_flip=True)\n",
        "\n",
        "train_datagen = ImageDataGenerator(\n",
        "      rescale=1./255,\n",
        "      rotation_range=40,\n",
        "      horizontal_flip=True)\n",
        "\n",
        "test_datagen = ImageDataGenerator(rescale=1.0/255.0)\n",
        "\n",
        "train_generator = train_datagen.flow_from_directory(\"/content/train\", target_size = (img_size, img_size),\n",
        "                                             color_mode = 'grayscale',\n",
        "                                             batch_size = batch_size,\n",
        "                                             class_mode = 'categorical',\n",
        "                                             shuffle = True)\n",
        "\n",
        "test_generator = test_datagen.flow_from_directory(\"/content/test/\", target_size = (img_size, img_size),\n",
        "                                             color_mode = 'grayscale',\n",
        "                                             batch_size = batch_size,\n",
        "                                             class_mode = 'categorical',\n",
        "                                             shuffle = True)"
      ],
      "execution_count": 70,
      "outputs": [
        {
          "output_type": "stream",
          "text": [
            "Found 28709 images belonging to 7 classes.\n",
            "Found 7178 images belonging to 7 classes.\n"
          ],
          "name": "stdout"
        }
      ]
    },
    {
      "cell_type": "markdown",
      "metadata": {
        "id": "k3nk_cdRfN_0",
        "colab_type": "text"
      },
      "source": [
        "# Building CNN, Defining model and adding cnn layers"
      ]
    },
    {
      "cell_type": "code",
      "metadata": {
        "id": "1rfT5-Q9fUqo",
        "colab_type": "code",
        "colab": {}
      },
      "source": [
        "def my_model():\n",
        "  cnn = tf.keras.models.Sequential(\n",
        "      tf.keras.layers.Conv2D(64, (5,5), padding ='same', activation='relu', input_shape=(48,48,1)))\n",
        "      \n",
        "  '''tf.keras.layers.Conv2D(32, kernel_size=(3, 3), activation='relu', input_shape=(48,48,1)))\n",
        "  cnn.add(tf.keras.layers.Conv2D(64, kernel_size=(3, 3), activation='relu'))\n",
        "  cnn.add(tf.keras.layers.MaxPooling2D(pool_size=(2, 2)))\n",
        "  cnn.add(tf.keras.layers.Dropout(0.25))\n",
        "  cnn.add(tf.keras.layers.Conv2D(128, kernel_size=(3, 3), activation='relu'))\n",
        "  cnn.add(tf.keras.layers.MaxPooling2D(pool_size=(2, 2)))\n",
        "  cnn.add(tf.keras.layers.Conv2D(128, kernel_size=(3, 3), activation='relu'))\n",
        "  cnn.add(tf.keras.layers.MaxPooling2D(pool_size=(2, 2)))\n",
        "  cnn.add(tf.keras.layers.Dropout(0.25))\n",
        "  cnn.add(tf.keras.layers.Flatten())\n",
        "  cnn.add(tf.keras.layers.Dense(1024, activation='relu'))\n",
        "  cnn.add(tf.keras.layers.Dropout(0.5))\n",
        "  cnn.add(tf.keras.layers.Dense(7, activation='softmax'))'''\n",
        "  #tf.keras.layers.Conv2D(64, (5,5), padding ='same', activation='relu', input_shape=(48,48,1)))\n",
        "  cnn.add(tf.keras.layers.Conv2D(64, (5,5),padding='same', activation='relu'))\n",
        "  cnn.add(tf.keras.layers.BatchNormalization())\n",
        "\n",
        "  cnn.add(tf.keras.layers.MaxPooling2D(pool_size=(2, 2), strides=2))\n",
        "\n",
        "  #,kernel_regularizer = tf.keras.regularizers.l2(0.01)cnn.add(tf.keras.layers.Dropout(0.2))\n",
        "  cnn.add(tf.keras.layers.Conv2D(128, (5,5),padding='same', activation='relu'))\n",
        "  cnn.add(tf.keras.layers.Conv2D(128, (5,5),padding='same', activation='relu'))\n",
        "  cnn.add(tf.keras.layers.BatchNormalization())\n",
        "  cnn.add(tf.keras.layers.MaxPooling2D(pool_size=(2, 2)))\n",
        "  \n",
        "  \n",
        "\n",
        "  #adding more layers\n",
        "  cnn.add(tf.keras.layers.Conv2D(256, (3,3), activation='relu'))\n",
        "  cnn.add(tf.keras.layers.Conv2D(256, (3,3), activation='relu'))\n",
        "  cnn.add(tf.keras.layers.BatchNormalization())\n",
        "  cnn.add(tf.keras.layers.Dropout(0.2))\n",
        "  cnn.add(tf.keras.layers.MaxPooling2D(pool_size=(2, 2),strides=2))\n",
        "\n",
        "\n",
        "\n",
        "  cnn.add(tf.keras.layers.Flatten())\n",
        "  cnn.add(tf.keras.layers.Dense(512))\n",
        "  #cnn.add(tf.keras.layers.MaxPooling2D(pool_size=(2, 2)))\n",
        "  cnn.add(tf.keras.layers.BatchNormalization())\n",
        "  cnn.add(tf.keras.layers.Activation('relu'))\n",
        "  cnn.add(tf.keras.layers.Dropout(0.25))\n",
        "  cnn.add(tf.keras.layers.Dense(7))\n",
        "  cnn.add(tf.keras.layers.Activation('softmax'))\n",
        "\n",
        "  return cnn\n"
      ],
      "execution_count": 11,
      "outputs": []
    },
    {
      "cell_type": "markdown",
      "metadata": {
        "id": "ZrQmOKYzXIn4",
        "colab_type": "text"
      },
      "source": [
        "# compile and fit the model\n"
      ]
    },
    {
      "cell_type": "code",
      "metadata": {
        "id": "RBB7HlAdq3bi",
        "colab_type": "code",
        "colab": {
          "base_uri": "https://localhost:8080/",
          "height": 833
        },
        "outputId": "e4314f4f-552c-4741-c46e-3d827eab65a9"
      },
      "source": [
        "model = my_model()\n",
        "model.compile(optimizer=tf.keras.optimizers.Adam(lr=0.001, beta_1=0.9, beta_2=0.999, epsilon=1e-7),\n",
        "              loss=\"categorical_crossentropy\",\n",
        "              metrics=['accuracy'])\n",
        "model.summary()"
      ],
      "execution_count": 12,
      "outputs": [
        {
          "output_type": "stream",
          "text": [
            "Model: \"sequential\"\n",
            "_________________________________________________________________\n",
            "Layer (type)                 Output Shape              Param #   \n",
            "=================================================================\n",
            "conv2d (Conv2D)              (None, 48, 48, 64)        1664      \n",
            "_________________________________________________________________\n",
            "conv2d_1 (Conv2D)            (None, 48, 48, 64)        102464    \n",
            "_________________________________________________________________\n",
            "batch_normalization (BatchNo (None, 48, 48, 64)        256       \n",
            "_________________________________________________________________\n",
            "max_pooling2d (MaxPooling2D) (None, 24, 24, 64)        0         \n",
            "_________________________________________________________________\n",
            "conv2d_2 (Conv2D)            (None, 24, 24, 128)       204928    \n",
            "_________________________________________________________________\n",
            "conv2d_3 (Conv2D)            (None, 24, 24, 128)       409728    \n",
            "_________________________________________________________________\n",
            "batch_normalization_1 (Batch (None, 24, 24, 128)       512       \n",
            "_________________________________________________________________\n",
            "max_pooling2d_1 (MaxPooling2 (None, 12, 12, 128)       0         \n",
            "_________________________________________________________________\n",
            "conv2d_4 (Conv2D)            (None, 10, 10, 256)       295168    \n",
            "_________________________________________________________________\n",
            "conv2d_5 (Conv2D)            (None, 8, 8, 256)         590080    \n",
            "_________________________________________________________________\n",
            "batch_normalization_2 (Batch (None, 8, 8, 256)         1024      \n",
            "_________________________________________________________________\n",
            "dropout (Dropout)            (None, 8, 8, 256)         0         \n",
            "_________________________________________________________________\n",
            "max_pooling2d_2 (MaxPooling2 (None, 4, 4, 256)         0         \n",
            "_________________________________________________________________\n",
            "flatten (Flatten)            (None, 4096)              0         \n",
            "_________________________________________________________________\n",
            "dense (Dense)                (None, 512)               2097664   \n",
            "_________________________________________________________________\n",
            "batch_normalization_3 (Batch (None, 512)               2048      \n",
            "_________________________________________________________________\n",
            "activation (Activation)      (None, 512)               0         \n",
            "_________________________________________________________________\n",
            "dropout_1 (Dropout)          (None, 512)               0         \n",
            "_________________________________________________________________\n",
            "dense_1 (Dense)              (None, 7)                 3591      \n",
            "_________________________________________________________________\n",
            "activation_1 (Activation)    (None, 7)                 0         \n",
            "=================================================================\n",
            "Total params: 3,709,127\n",
            "Trainable params: 3,707,207\n",
            "Non-trainable params: 1,920\n",
            "_________________________________________________________________\n"
          ],
          "name": "stdout"
        }
      ]
    },
    {
      "cell_type": "code",
      "metadata": {
        "id": "sHopZle-XSPU",
        "colab_type": "code",
        "colab": {
          "base_uri": "https://localhost:8080/",
          "height": 68
        },
        "outputId": "7a2819b0-263d-4284-eb4c-0840b9244986"
      },
      "source": [
        "print(train_generator.n)\n",
        "batch_size = 64\n",
        "steps_per_epoch = train_generator.n//train_generator.batch_size\n",
        "validation_steps = test_generator.n // test_generator.batch_size\n",
        "print(steps_per_epoch)\n",
        "print(validation_steps)"
      ],
      "execution_count": null,
      "outputs": [
        {
          "output_type": "stream",
          "text": [
            "28709\n",
            "448\n",
            "112\n"
          ],
          "name": "stdout"
        }
      ]
    },
    {
      "cell_type": "code",
      "metadata": {
        "id": "qLu6y6N7FOo1",
        "colab_type": "code",
        "colab": {
          "base_uri": "https://localhost:8080/",
          "height": 833
        },
        "outputId": "70eb2b96-1c91-4bd2-f6c5-2f2811a04de4"
      },
      "source": [
        "optm=tf.keras.optimizers.SGD(\n",
        "    learning_rate=0.01, momentum=0.0, nesterov=False, name=\"SGD\"\n",
        ")\n",
        "optm1= tf.keras.optimizers.Adam(lr=0.001, beta_1=0.9, beta_2=0.999, epsilon=1e-7)\n",
        "# Adadelta(lr=0.1, rho=0.95, epsilon=1e-08)\n",
        "model.compile(optimizer=optm1,\n",
        "              loss=\"categorical_crossentropy\",\n",
        "              metrics=['accuracy'])\n",
        "model.summary()"
      ],
      "execution_count": null,
      "outputs": [
        {
          "output_type": "stream",
          "text": [
            "Model: \"sequential_13\"\n",
            "_________________________________________________________________\n",
            "Layer (type)                 Output Shape              Param #   \n",
            "=================================================================\n",
            "conv2d_74 (Conv2D)           (None, 48, 48, 64)        1664      \n",
            "_________________________________________________________________\n",
            "conv2d_75 (Conv2D)           (None, 48, 48, 64)        102464    \n",
            "_________________________________________________________________\n",
            "batch_normalization_51 (Batc (None, 48, 48, 64)        256       \n",
            "_________________________________________________________________\n",
            "max_pooling2d_39 (MaxPooling (None, 24, 24, 64)        0         \n",
            "_________________________________________________________________\n",
            "conv2d_76 (Conv2D)           (None, 24, 24, 128)       204928    \n",
            "_________________________________________________________________\n",
            "conv2d_77 (Conv2D)           (None, 24, 24, 128)       409728    \n",
            "_________________________________________________________________\n",
            "batch_normalization_52 (Batc (None, 24, 24, 128)       512       \n",
            "_________________________________________________________________\n",
            "max_pooling2d_40 (MaxPooling (None, 12, 12, 128)       0         \n",
            "_________________________________________________________________\n",
            "conv2d_78 (Conv2D)           (None, 10, 10, 256)       295168    \n",
            "_________________________________________________________________\n",
            "conv2d_79 (Conv2D)           (None, 8, 8, 256)         590080    \n",
            "_________________________________________________________________\n",
            "batch_normalization_53 (Batc (None, 8, 8, 256)         1024      \n",
            "_________________________________________________________________\n",
            "dropout_18 (Dropout)         (None, 8, 8, 256)         0         \n",
            "_________________________________________________________________\n",
            "max_pooling2d_41 (MaxPooling (None, 4, 4, 256)         0         \n",
            "_________________________________________________________________\n",
            "flatten_13 (Flatten)         (None, 4096)              0         \n",
            "_________________________________________________________________\n",
            "dense_25 (Dense)             (None, 512)               2097664   \n",
            "_________________________________________________________________\n",
            "batch_normalization_54 (Batc (None, 512)               2048      \n",
            "_________________________________________________________________\n",
            "activation_16 (Activation)   (None, 512)               0         \n",
            "_________________________________________________________________\n",
            "dropout_19 (Dropout)         (None, 512)               0         \n",
            "_________________________________________________________________\n",
            "dense_26 (Dense)             (None, 7)                 3591      \n",
            "_________________________________________________________________\n",
            "activation_17 (Activation)   (None, 7)                 0         \n",
            "=================================================================\n",
            "Total params: 3,709,127\n",
            "Trainable params: 3,707,207\n",
            "Non-trainable params: 1,920\n",
            "_________________________________________________________________\n"
          ],
          "name": "stdout"
        }
      ]
    },
    {
      "cell_type": "code",
      "metadata": {
        "id": "zcjzIA4I3_jh",
        "colab_type": "code",
        "colab": {
          "base_uri": "https://localhost:8080/",
          "height": 34
        },
        "outputId": "76d4fbe5-ed4d-4847-b4ae-22763d95c671"
      },
      "source": [
        "model.metrics_names"
      ],
      "execution_count": 61,
      "outputs": [
        {
          "output_type": "execute_result",
          "data": {
            "text/plain": [
              "['loss', 'accuracy']"
            ]
          },
          "metadata": {
            "tags": []
          },
          "execution_count": 61
        }
      ]
    },
    {
      "cell_type": "markdown",
      "metadata": {
        "id": "4Ys58jiq4AO-",
        "colab_type": "text"
      },
      "source": [
        "# Try Another Model MibileNet"
      ]
    },
    {
      "cell_type": "code",
      "metadata": {
        "id": "3mQuUGX14ETR",
        "colab_type": "code",
        "colab": {}
      },
      "source": [
        "import re\n",
        "import gc\n",
        "import glob\n",
        "import keras\n",
        "import pandas as pd\n",
        "import numpy  as np\n",
        "\n",
        "import tensorflow as tf\n",
        "import plotly.express as px\n",
        "import matplotlib.pyplot as plt\n",
        "import plotly.graph_objects as go\n",
        "from plotly.subplots import make_subplots\n",
        "from sklearn.metrics import roc_curve, auc, multilabel_confusion_matrix\n",
        "\n",
        "\n",
        "import keras.backend as K\n",
        "from keras.models     import Sequential\n",
        "from keras.layers     import Dense, Dropout, GlobalMaxPooling2D\n",
        "from keras.optimizers import Adam, SGD\n",
        "from keras.applications import MobileNetV2\n",
        "from keras.callbacks    import ReduceLROnPlateau, ModelCheckpoint, EarlyStopping, CSVLogger\n",
        "from sklearn.model_selection   import train_test_split\n",
        "from keras.preprocessing.image import ImageDataGenerator\n",
        "\n",
        "np.random.seed(451)\n",
        "\n",
        "# General parameters\n",
        "batch_size = 64\n",
        "img_size = 48\n",
        "epochs     = 50\n",
        "\n",
        "\n",
        "\n",
        "train_generator = ImageDataGenerator(\n",
        "                    rescale     = 1./255,\n",
        "                    shear_range = 0.1,\n",
        "                    zoom_range  = 0.1,\n",
        "                    width_shift_range  = 0.1,\n",
        "                    height_shift_range = 0.1,\n",
        "                    horizontal_flip    = True)\n",
        "\n",
        "test_generator = ImageDataGenerator(rescale=1./255)\n",
        "\n"
      ],
      "execution_count": 25,
      "outputs": []
    },
    {
      "cell_type": "code",
      "metadata": {
        "id": "_c48AO6V4XMP",
        "colab_type": "code",
        "colab": {
          "base_uri": "https://localhost:8080/",
          "height": 51
        },
        "outputId": "20fc696d-c81f-4792-ee60-37fe5b1cc662"
      },
      "source": [
        "\n",
        "\n",
        "train_gen = train_generator.flow_from_directory(\"/content/train\",\n",
        "                                               \n",
        "                                             target_size=(48,48),\n",
        "                                             color_mode = 'rgb',\n",
        "                                             batch_size = batch_size,\n",
        "                                             class_mode = 'categorical',\n",
        "                                             shuffle = True,\n",
        "                                              seed=451)\n",
        "\n",
        "test_gen = test_generator.flow_from_directory(\"/content/test/\", \n",
        "                                              target_size=(48,48),\n",
        "                                             color_mode = 'rgb',\n",
        "                                             batch_size = batch_size,\n",
        "                                             class_mode = 'categorical',\n",
        "                                             shuffle = True,\n",
        "                                              seed=451)\n"
      ],
      "execution_count": null,
      "outputs": [
        {
          "output_type": "stream",
          "text": [
            "Found 28709 images belonging to 7 classes.\n",
            "Found 7178 images belonging to 7 classes.\n"
          ],
          "name": "stdout"
        }
      ]
    },
    {
      "cell_type": "code",
      "metadata": {
        "id": "S7Jq7_-U_KOm",
        "colab_type": "code",
        "colab": {
          "base_uri": "https://localhost:8080/",
          "height": 377
        },
        "outputId": "c4f0f9c2-de66-46d1-ca89-c71d90d4a5f7"
      },
      "source": [
        "\n",
        "model = Sequential()\n",
        "model.add(MobileNetV2(input_shape=(48,48,3), weights='imagenet', include_top=False))\n",
        "model.add(GlobalMaxPooling2D())\n",
        "model.add(Dropout(0.5))\n",
        "model.add(Dense(7,activation='softmax'))\n",
        "model.compile(optimizer=Adam(lr=1e-4), loss='binary_crossentropy', metrics=['accuracy'])\n",
        "model.summary()"
      ],
      "execution_count": null,
      "outputs": [
        {
          "output_type": "stream",
          "text": [
            "/usr/local/lib/python3.6/dist-packages/keras_applications/mobilenet_v2.py:294: UserWarning:\n",
            "\n",
            "`input_shape` is undefined or non-square, or `rows` is not in [96, 128, 160, 192, 224]. Weights for input shape (224, 224) will be loaded as the default.\n",
            "\n"
          ],
          "name": "stderr"
        },
        {
          "output_type": "stream",
          "text": [
            "Model: \"sequential_6\"\n",
            "_________________________________________________________________\n",
            "Layer (type)                 Output Shape              Param #   \n",
            "=================================================================\n",
            "mobilenetv2_1.00_224 (Model) (None, 2, 2, 1280)        2257984   \n",
            "_________________________________________________________________\n",
            "global_max_pooling2d_6 (Glob (None, 1280)              0         \n",
            "_________________________________________________________________\n",
            "dropout_6 (Dropout)          (None, 1280)              0         \n",
            "_________________________________________________________________\n",
            "dense_6 (Dense)              (None, 7)                 8967      \n",
            "=================================================================\n",
            "Total params: 2,266,951\n",
            "Trainable params: 2,232,839\n",
            "Non-trainable params: 34,112\n",
            "_________________________________________________________________\n"
          ],
          "name": "stdout"
        }
      ]
    },
    {
      "cell_type": "code",
      "metadata": {
        "id": "QC5vQ-Tx_iI1",
        "colab_type": "code",
        "colab": {
          "base_uri": "https://localhost:8080/",
          "height": 1000
        },
        "outputId": "f5df4a56-09ca-4d2a-99a8-ebaa803d1eff"
      },
      "source": [
        "another_model = model.fit(train_gen,\n",
        "                steps_per_epoch=28709 // batch_size,\n",
        "                epochs = 30,\n",
        "                validation_data=test_gen,\n",
        "                validation_steps=7178 // batch_size)"
      ],
      "execution_count": null,
      "outputs": [
        {
          "output_type": "stream",
          "text": [
            "Epoch 1/30\n",
            "448/448 [==============================] - 79s 176ms/step - loss: 0.4761 - accuracy: 0.8355 - val_loss: 0.4184 - val_accuracy: 0.8121\n",
            "Epoch 2/30\n",
            "448/448 [==============================] - 55s 124ms/step - loss: 0.3783 - accuracy: 0.8585 - val_loss: 0.5146 - val_accuracy: 0.8258\n",
            "Epoch 3/30\n",
            "448/448 [==============================] - 55s 124ms/step - loss: 0.3640 - accuracy: 0.8623 - val_loss: 0.3732 - val_accuracy: 0.8570\n",
            "Epoch 4/30\n",
            "448/448 [==============================] - 58s 129ms/step - loss: 0.3495 - accuracy: 0.8667 - val_loss: 0.3357 - val_accuracy: 0.8615\n",
            "Epoch 5/30\n",
            "448/448 [==============================] - 58s 130ms/step - loss: 0.3389 - accuracy: 0.8695 - val_loss: 0.3341 - val_accuracy: 0.8647\n",
            "Epoch 6/30\n",
            "448/448 [==============================] - 58s 129ms/step - loss: 0.3335 - accuracy: 0.8713 - val_loss: 0.4840 - val_accuracy: 0.8525\n",
            "Epoch 7/30\n",
            "448/448 [==============================] - 57s 128ms/step - loss: 0.3259 - accuracy: 0.8729 - val_loss: 0.3814 - val_accuracy: 0.8738\n",
            "Epoch 8/30\n",
            "448/448 [==============================] - 57s 127ms/step - loss: 0.3148 - accuracy: 0.8769 - val_loss: 0.3092 - val_accuracy: 0.8758\n",
            "Epoch 9/30\n",
            "448/448 [==============================] - 59s 133ms/step - loss: 0.3073 - accuracy: 0.8784 - val_loss: 0.2529 - val_accuracy: 0.8771\n",
            "Epoch 10/30\n",
            "448/448 [==============================] - 58s 130ms/step - loss: 0.2995 - accuracy: 0.8815 - val_loss: 0.3225 - val_accuracy: 0.8755\n",
            "Epoch 11/30\n",
            "448/448 [==============================] - 58s 130ms/step - loss: 0.2918 - accuracy: 0.8832 - val_loss: 0.3394 - val_accuracy: 0.8776\n",
            "Epoch 12/30\n",
            "448/448 [==============================] - 59s 131ms/step - loss: 0.2848 - accuracy: 0.8859 - val_loss: 0.3291 - val_accuracy: 0.8826\n",
            "Epoch 13/30\n",
            "448/448 [==============================] - 57s 128ms/step - loss: 0.2784 - accuracy: 0.8883 - val_loss: 0.2815 - val_accuracy: 0.8832\n",
            "Epoch 14/30\n",
            "448/448 [==============================] - 59s 132ms/step - loss: 0.2727 - accuracy: 0.8901 - val_loss: 0.2376 - val_accuracy: 0.8853\n",
            "Epoch 15/30\n",
            "448/448 [==============================] - 59s 132ms/step - loss: 0.2669 - accuracy: 0.8910 - val_loss: 0.2147 - val_accuracy: 0.8897\n",
            "Epoch 16/30\n",
            "448/448 [==============================] - 58s 130ms/step - loss: 0.2608 - accuracy: 0.8932 - val_loss: 0.3163 - val_accuracy: 0.8884\n",
            "Epoch 17/30\n",
            "448/448 [==============================] - 58s 130ms/step - loss: 0.2557 - accuracy: 0.8957 - val_loss: 0.2762 - val_accuracy: 0.8927\n",
            "Epoch 18/30\n",
            "448/448 [==============================] - 57s 128ms/step - loss: 0.2520 - accuracy: 0.8971 - val_loss: 0.2756 - val_accuracy: 0.8917\n",
            "Epoch 19/30\n",
            "448/448 [==============================] - 57s 128ms/step - loss: 0.2460 - accuracy: 0.8991 - val_loss: 0.2630 - val_accuracy: 0.8915\n",
            "Epoch 20/30\n",
            "448/448 [==============================] - 57s 127ms/step - loss: 0.2415 - accuracy: 0.9014 - val_loss: 0.3027 - val_accuracy: 0.8953\n",
            "Epoch 21/30\n",
            "448/448 [==============================] - 57s 128ms/step - loss: 0.2373 - accuracy: 0.9028 - val_loss: 0.2299 - val_accuracy: 0.8940\n",
            "Epoch 22/30\n",
            "448/448 [==============================] - 58s 128ms/step - loss: 0.2330 - accuracy: 0.9044 - val_loss: 0.2783 - val_accuracy: 0.8931\n",
            "Epoch 23/30\n",
            "448/448 [==============================] - 57s 127ms/step - loss: 0.2294 - accuracy: 0.9059 - val_loss: 0.2842 - val_accuracy: 0.8891\n",
            "Epoch 24/30\n",
            "448/448 [==============================] - 57s 127ms/step - loss: 0.2246 - accuracy: 0.9078 - val_loss: 0.2424 - val_accuracy: 0.8933\n",
            "Epoch 25/30\n",
            "448/448 [==============================] - 57s 127ms/step - loss: 0.2186 - accuracy: 0.9104 - val_loss: 0.2554 - val_accuracy: 0.8921\n",
            "Epoch 26/30\n",
            "448/448 [==============================] - 56s 126ms/step - loss: 0.2177 - accuracy: 0.9112 - val_loss: 0.2216 - val_accuracy: 0.8953\n",
            "Epoch 27/30\n",
            "448/448 [==============================] - 57s 126ms/step - loss: 0.2113 - accuracy: 0.9129 - val_loss: 0.2928 - val_accuracy: 0.8928\n",
            "Epoch 28/30\n",
            "448/448 [==============================] - 57s 127ms/step - loss: 0.2081 - accuracy: 0.9153 - val_loss: 0.2762 - val_accuracy: 0.8945\n",
            "Epoch 29/30\n",
            "448/448 [==============================] - 56s 124ms/step - loss: 0.2037 - accuracy: 0.9166 - val_loss: 0.3293 - val_accuracy: 0.8964\n",
            "Epoch 30/30\n",
            "448/448 [==============================] - 56s 124ms/step - loss: 0.2004 - accuracy: 0.9184 - val_loss: 0.2742 - val_accuracy: 0.8951\n"
          ],
          "name": "stdout"
        }
      ]
    },
    {
      "cell_type": "code",
      "metadata": {
        "id": "8BXviRG0lsdx",
        "colab_type": "code",
        "colab": {}
      },
      "source": [
        "model.save_weights('emotion_model_mobilenet2D.h5')\n",
        "!ls"
      ],
      "execution_count": null,
      "outputs": []
    },
    {
      "cell_type": "code",
      "metadata": {
        "id": "OOSVnQthXSXe",
        "colab_type": "code",
        "colab": {
          "base_uri": "https://localhost:8080/",
          "height": 1000
        },
        "outputId": "8b13ac20-ed55-4348-87d2-823a0b5af36c"
      },
      "source": [
        "#compile and fit the model\n",
        "#cnn.compile(optimizer = 'adam', loss = 'binary_crossentropy', metrics = ['accuracy'])\n",
        "model_info=model.fit(train_generator,\n",
        "        steps_per_epoch=28709 // batch_size,\n",
        "        epochs = 50,\n",
        "        batch_size=64,\n",
        "        verbose=1,\n",
        "        validation_data = test_generator,\n",
        "        shuffle=True)"
      ],
      "execution_count": 75,
      "outputs": [
        {
          "output_type": "stream",
          "text": [
            "Epoch 1/50\n",
            "448/448 [==============================] - 37s 82ms/step - loss: 1.4923 - accuracy: 0.4243 - val_loss: 1.4658 - val_accuracy: 0.4607\n",
            "Epoch 2/50\n",
            "448/448 [==============================] - 37s 82ms/step - loss: 1.3408 - accuracy: 0.4870 - val_loss: 1.2774 - val_accuracy: 0.5033\n",
            "Epoch 3/50\n",
            "448/448 [==============================] - 37s 82ms/step - loss: 1.2544 - accuracy: 0.5242 - val_loss: 1.2014 - val_accuracy: 0.5430\n",
            "Epoch 4/50\n",
            "448/448 [==============================] - 37s 83ms/step - loss: 1.1957 - accuracy: 0.5448 - val_loss: 1.2227 - val_accuracy: 0.5340\n",
            "Epoch 5/50\n",
            "448/448 [==============================] - 37s 82ms/step - loss: 1.1482 - accuracy: 0.5654 - val_loss: 1.1681 - val_accuracy: 0.5690\n",
            "Epoch 6/50\n",
            "448/448 [==============================] - 37s 82ms/step - loss: 1.1141 - accuracy: 0.5788 - val_loss: 1.1996 - val_accuracy: 0.5469\n",
            "Epoch 7/50\n",
            "448/448 [==============================] - 37s 82ms/step - loss: 1.0786 - accuracy: 0.5927 - val_loss: 1.1186 - val_accuracy: 0.5691\n",
            "Epoch 8/50\n",
            "448/448 [==============================] - 37s 83ms/step - loss: 1.0497 - accuracy: 0.6027 - val_loss: 1.0829 - val_accuracy: 0.6020\n",
            "Epoch 9/50\n",
            "448/448 [==============================] - 37s 82ms/step - loss: 1.0284 - accuracy: 0.6112 - val_loss: 1.0652 - val_accuracy: 0.6004\n",
            "Epoch 10/50\n",
            "448/448 [==============================] - 37s 82ms/step - loss: 1.0070 - accuracy: 0.6215 - val_loss: 1.1095 - val_accuracy: 0.5899\n",
            "Epoch 11/50\n",
            "448/448 [==============================] - 37s 82ms/step - loss: 0.9863 - accuracy: 0.6297 - val_loss: 1.1034 - val_accuracy: 0.5922\n",
            "Epoch 12/50\n",
            "448/448 [==============================] - 37s 82ms/step - loss: 0.9596 - accuracy: 0.6396 - val_loss: 1.0344 - val_accuracy: 0.6194\n",
            "Epoch 13/50\n",
            "448/448 [==============================] - 37s 83ms/step - loss: 0.9489 - accuracy: 0.6481 - val_loss: 1.0742 - val_accuracy: 0.6120\n",
            "Epoch 14/50\n",
            "448/448 [==============================] - 37s 82ms/step - loss: 0.9221 - accuracy: 0.6533 - val_loss: 1.0794 - val_accuracy: 0.5899\n",
            "Epoch 15/50\n",
            "448/448 [==============================] - 37s 82ms/step - loss: 0.9044 - accuracy: 0.6599 - val_loss: 1.0506 - val_accuracy: 0.6186\n",
            "Epoch 16/50\n",
            "448/448 [==============================] - 37s 82ms/step - loss: 0.8865 - accuracy: 0.6692 - val_loss: 1.0560 - val_accuracy: 0.6209\n",
            "Epoch 17/50\n",
            "448/448 [==============================] - 37s 82ms/step - loss: 0.8721 - accuracy: 0.6736 - val_loss: 1.0933 - val_accuracy: 0.6160\n",
            "Epoch 18/50\n",
            "448/448 [==============================] - 37s 82ms/step - loss: 0.8551 - accuracy: 0.6799 - val_loss: 1.0215 - val_accuracy: 0.6351\n",
            "Epoch 19/50\n",
            "448/448 [==============================] - 37s 83ms/step - loss: 0.8407 - accuracy: 0.6863 - val_loss: 1.0716 - val_accuracy: 0.6158\n",
            "Epoch 20/50\n",
            "448/448 [==============================] - 37s 82ms/step - loss: 0.8261 - accuracy: 0.6927 - val_loss: 1.1488 - val_accuracy: 0.5917\n",
            "Epoch 21/50\n",
            "448/448 [==============================] - 37s 82ms/step - loss: 0.8072 - accuracy: 0.6972 - val_loss: 1.0956 - val_accuracy: 0.6240\n",
            "Epoch 22/50\n",
            "448/448 [==============================] - 37s 82ms/step - loss: 0.7900 - accuracy: 0.7076 - val_loss: 1.0767 - val_accuracy: 0.6342\n",
            "Epoch 23/50\n",
            "448/448 [==============================] - 37s 84ms/step - loss: 0.7769 - accuracy: 0.7116 - val_loss: 1.0271 - val_accuracy: 0.6438\n",
            "Epoch 24/50\n",
            "448/448 [==============================] - 37s 83ms/step - loss: 0.7603 - accuracy: 0.7147 - val_loss: 1.0510 - val_accuracy: 0.6413\n",
            "Epoch 25/50\n",
            "448/448 [==============================] - 37s 82ms/step - loss: 0.7436 - accuracy: 0.7237 - val_loss: 1.0567 - val_accuracy: 0.6337\n",
            "Epoch 26/50\n",
            "448/448 [==============================] - 37s 83ms/step - loss: 0.7357 - accuracy: 0.7277 - val_loss: 1.1029 - val_accuracy: 0.6351\n",
            "Epoch 27/50\n",
            "448/448 [==============================] - 37s 83ms/step - loss: 0.7238 - accuracy: 0.7309 - val_loss: 1.0919 - val_accuracy: 0.6428\n",
            "Epoch 28/50\n",
            "448/448 [==============================] - 37s 83ms/step - loss: 0.7103 - accuracy: 0.7386 - val_loss: 1.0944 - val_accuracy: 0.6349\n",
            "Epoch 29/50\n",
            "448/448 [==============================] - 38s 84ms/step - loss: 0.6993 - accuracy: 0.7418 - val_loss: 1.0810 - val_accuracy: 0.6369\n",
            "Epoch 30/50\n",
            "448/448 [==============================] - 38s 84ms/step - loss: 0.6734 - accuracy: 0.7472 - val_loss: 1.0722 - val_accuracy: 0.6468\n",
            "Epoch 31/50\n",
            "448/448 [==============================] - 37s 83ms/step - loss: 0.6703 - accuracy: 0.7512 - val_loss: 1.1355 - val_accuracy: 0.6226\n",
            "Epoch 32/50\n",
            "448/448 [==============================] - 37s 83ms/step - loss: 0.6536 - accuracy: 0.7574 - val_loss: 1.1939 - val_accuracy: 0.6230\n",
            "Epoch 33/50\n",
            "448/448 [==============================] - 37s 83ms/step - loss: 0.6470 - accuracy: 0.7628 - val_loss: 1.0616 - val_accuracy: 0.6537\n",
            "Epoch 34/50\n",
            "448/448 [==============================] - 37s 83ms/step - loss: 0.6250 - accuracy: 0.7691 - val_loss: 1.1065 - val_accuracy: 0.6375\n",
            "Epoch 35/50\n",
            "448/448 [==============================] - 37s 83ms/step - loss: 0.6152 - accuracy: 0.7743 - val_loss: 1.1491 - val_accuracy: 0.6408\n",
            "Epoch 36/50\n",
            "448/448 [==============================] - 37s 83ms/step - loss: 0.6034 - accuracy: 0.7757 - val_loss: 1.0791 - val_accuracy: 0.6492\n",
            "Epoch 37/50\n",
            "448/448 [==============================] - 37s 83ms/step - loss: 0.6003 - accuracy: 0.7781 - val_loss: 1.1021 - val_accuracy: 0.6415\n",
            "Epoch 38/50\n",
            "448/448 [==============================] - 37s 83ms/step - loss: 0.5838 - accuracy: 0.7857 - val_loss: 1.1006 - val_accuracy: 0.6548\n",
            "Epoch 39/50\n",
            "448/448 [==============================] - 37s 83ms/step - loss: 0.5783 - accuracy: 0.7893 - val_loss: 1.1083 - val_accuracy: 0.6602\n",
            "Epoch 40/50\n",
            "448/448 [==============================] - 37s 83ms/step - loss: 0.5592 - accuracy: 0.7940 - val_loss: 1.2098 - val_accuracy: 0.6393\n",
            "Epoch 41/50\n",
            "448/448 [==============================] - 37s 83ms/step - loss: 0.5576 - accuracy: 0.7938 - val_loss: 1.0885 - val_accuracy: 0.6583\n",
            "Epoch 42/50\n",
            "448/448 [==============================] - 37s 82ms/step - loss: 0.5466 - accuracy: 0.7980 - val_loss: 1.1616 - val_accuracy: 0.6532\n",
            "Epoch 43/50\n",
            "448/448 [==============================] - 37s 83ms/step - loss: 0.5275 - accuracy: 0.8057 - val_loss: 1.1646 - val_accuracy: 0.6539\n",
            "Epoch 44/50\n",
            "448/448 [==============================] - 37s 82ms/step - loss: 0.5181 - accuracy: 0.8110 - val_loss: 1.1518 - val_accuracy: 0.6612\n",
            "Epoch 45/50\n",
            "448/448 [==============================] - 37s 82ms/step - loss: 0.5234 - accuracy: 0.8111 - val_loss: 1.1408 - val_accuracy: 0.6610\n",
            "Epoch 46/50\n",
            "448/448 [==============================] - 37s 83ms/step - loss: 0.5062 - accuracy: 0.8150 - val_loss: 1.1713 - val_accuracy: 0.6563\n",
            "Epoch 47/50\n",
            "448/448 [==============================] - 37s 82ms/step - loss: 0.4981 - accuracy: 0.8178 - val_loss: 1.2195 - val_accuracy: 0.6482\n",
            "Epoch 48/50\n",
            "448/448 [==============================] - 37s 82ms/step - loss: 0.4851 - accuracy: 0.8224 - val_loss: 1.1935 - val_accuracy: 0.6519\n",
            "Epoch 49/50\n",
            "448/448 [==============================] - 37s 82ms/step - loss: 0.4809 - accuracy: 0.8204 - val_loss: 1.2297 - val_accuracy: 0.6438\n",
            "Epoch 50/50\n",
            "448/448 [==============================] - 37s 82ms/step - loss: 0.4769 - accuracy: 0.8246 - val_loss: 1.2277 - val_accuracy: 0.6549\n"
          ],
          "name": "stdout"
        }
      ]
    },
    {
      "cell_type": "code",
      "metadata": {
        "id": "_ZPHbLmvDues",
        "colab_type": "code",
        "colab": {
          "base_uri": "https://localhost:8080/",
          "height": 34
        },
        "outputId": "3a5996de-4c93-4fc6-860d-3019a810f83e"
      },
      "source": [
        "model.metrics_names"
      ],
      "execution_count": 56,
      "outputs": [
        {
          "output_type": "execute_result",
          "data": {
            "text/plain": [
              "['loss', 'accuracy']"
            ]
          },
          "metadata": {
            "tags": []
          },
          "execution_count": 56
        }
      ]
    },
    {
      "cell_type": "code",
      "metadata": {
        "id": "xN70AcinE0vK",
        "colab_type": "code",
        "colab": {
          "base_uri": "https://localhost:8080/",
          "height": 54
        },
        "outputId": "4510d02f-59fc-4c34-fb4d-9fcd8c54c4c0"
      },
      "source": [
        "print(model_info.history)"
      ],
      "execution_count": 64,
      "outputs": [
        {
          "output_type": "stream",
          "text": [
            "{'loss': [0.5183096528053284], 'accuracy': [0.8096067309379578], 'val_loss': [1.173994541168213], 'val_accuracy': [0.6472554802894592]}\n"
          ],
          "name": "stdout"
        }
      ]
    },
    {
      "cell_type": "markdown",
      "metadata": {
        "id": "3TmbUx91t-NO",
        "colab_type": "text"
      },
      "source": [
        "# Model accuracy loss graph"
      ]
    },
    {
      "cell_type": "code",
      "metadata": {
        "id": "42BZd5E18sBQ",
        "colab_type": "code",
        "colab": {
          "base_uri": "https://localhost:8080/",
          "height": 573
        },
        "outputId": "fba2374b-9f69-406e-dfd2-e566ce5e2db6"
      },
      "source": [
        "import matplotlib.pyplot as plt\n",
        "# for accuracy\n",
        "plt.plot(model_info.history['accuracy'])\n",
        "plt.plot(model_info.history['val_accuracy'])\n",
        "plt.title('model accuracy')\n",
        "plt.ylabel('accuracy')\n",
        "plt.xlabel('epoch')\n",
        "plt.legend(['train', 'test'], loc='upper left')\n",
        "plt.show()\n",
        "# summarize history for loss\n",
        "plt.plot(model_info.history['loss'])\n",
        "plt.plot(model_info.history['val_loss'])\n",
        "plt.title('model loss')\n",
        "plt.ylabel('loss')\n",
        "plt.xlabel('epoch')\n",
        "plt.legend(['train', 'test'], loc='upper left')\n",
        "plt.show()"
      ],
      "execution_count": 76,
      "outputs": [
        {
          "output_type": "display_data",
          "data": {
            "image/png": "[encoded data removed]",
            "text/plain": [
              "<Figure size 432x288 with 1 Axes>"
            ]
          },
          "metadata": {
            "tags": [],
            "needs_background": "light"
          }
        },
        {
          "output_type": "display_data",
          "data": {
            "image/png": "[encoded data removed]",
            "text/plain": [
              "<Figure size 432x288 with 1 Axes>"
            ]
          },
          "metadata": {
            "tags": [],
            "needs_background": "light"
          }
        }
      ]
    },
    {
      "cell_type": "code",
      "metadata": {
        "id": "EGV1dxOZ4qWy",
        "colab_type": "code",
        "colab": {
          "base_uri": "https://localhost:8080/",
          "height": 85
        },
        "outputId": "1c698c14-5f98-4ef4-f9b6-3d4974f7c53d"
      },
      "source": [
        "#save the model weihgt\n",
        "model.save_weights('my_model.h5')\n",
        "!ls"
      ],
      "execution_count": 78,
      "outputs": [
        {
          "output_type": "stream",
          "text": [
            "drive\t\t  face3.jpg  face7jpg\t\t\t\t  test\n",
            "emotion_model.h5  face4.jpg  haarcascade_frontalface_default.xml  train\n",
            "face1.jpg\t  face5.jpg  my_model.h5\n",
            "face2.jpg\t  face6.jpg  sample_data\n"
          ],
          "name": "stdout"
        }
      ]
    },
    {
      "cell_type": "code",
      "metadata": {
        "id": "t-D_DDSevYLO",
        "colab_type": "code",
        "colab": {}
      },
      "source": [
        "model.load_weights('/content/my_model.h5')"
      ],
      "execution_count": 29,
      "outputs": []
    },
    {
      "cell_type": "code",
      "metadata": {
        "id": "VJwCIUU0lD5l",
        "colab_type": "code",
        "colab": {}
      },
      "source": [
        "emotions = ['angry', 'disgust', 'fear', 'happy', 'sad', 'surprise', 'neutral']"
      ],
      "execution_count": 13,
      "outputs": []
    },
    {
      "cell_type": "code",
      "metadata": {
        "id": "0BRnqPiDjzCl",
        "colab_type": "code",
        "colab": {
          "base_uri": "https://localhost:8080/",
          "height": 320
        },
        "outputId": "8f602ca1-340d-40e9-fac3-18b16d8502ff"
      },
      "source": [
        "import keras\n",
        "from skimage import io\n",
        "from tensorflow.keras.preprocessing.image import ImageDataGenerator, load_img, img_to_array\n",
        "img = keras.preprocessing.image.load_img(\n",
        "    \"/content/face4.jpg\", color_mode='grayscale', target_size=(48,48)\n",
        ")\n",
        "show_img = keras.preprocessing.image.load_img(\n",
        "    \"/content/face4.jpg\", color_mode='rgba', target_size=(250,250)\n",
        ")\n",
        "img_array = keras.preprocessing.image.img_to_array(img)\n",
        "img_array = tf.expand_dims(img_array, 0)  # Create batch axis\n",
        "\n",
        "predictions = model.predict(img_array)\n",
        "print(predictions)\n",
        "maxindex = int(np.argmax(predictions)) \n",
        "print(maxindex)\n",
        "score = predictions[0]\n",
        "#print(int(np.argmax(score)))\n",
        "\n",
        "#emotion_analysis(score)\n",
        "plt.imshow(show_img)\n",
        "plt.show()\n",
        "      \n",
        "print('Expression Prediction:',emotions[maxindex])\n",
        "        "
      ],
      "execution_count": 30,
      "outputs": [
        {
          "output_type": "stream",
          "text": [
            "[[0. 0. 0. 1. 0. 0. 0.]]\n",
            "3\n"
          ],
          "name": "stdout"
        },
        {
          "output_type": "display_data",
          "data": {
            "image/png": "[encoded data removed]",
            "text/plain": [
              "<Figure size 432x288 with 1 Axes>"
            ]
          },
          "metadata": {
            "tags": [],
            "needs_background": "light"
          }
        },
        {
          "output_type": "stream",
          "text": [
            "Expression Prediction: happy\n"
          ],
          "name": "stdout"
        }
      ]
    },
    {
      "cell_type": "code",
      "metadata": {
        "id": "zPAgsW7Z9DsU",
        "colab_type": "code",
        "colab": {}
      },
      "source": [
        ""
      ],
      "execution_count": null,
      "outputs": []
    }
  ]
}