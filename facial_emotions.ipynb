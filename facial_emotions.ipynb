{
  "nbformat": 4,
  "nbformat_minor": 0,
  "metadata": {
    "colab": {
      "name": "emojify.ipynb",
      "provenance": [],
      "mount_file_id": "1qraIWica6bQ4_8lKMEGyUDjegG9SmnZS",
      "authorship_tag": "ABX9TyPGa01KQ2PSSbnp9u2H9zkF",
      "include_colab_link": true
    },
    "kernelspec": {
      "name": "python3",
      "display_name": "Python 3"
    },
    "accelerator": "GPU"
  },
  "cells": [
    {
      "cell_type": "markdown",
      "metadata": {
        "id": "view-in-github",
        "colab_type": "text"
      },
      "source": [
        "<a href=\"https://colab.research.google.com/github/subhani92/Deep_learning/blob/master/facial_emotions.ipynb\" target=\"_parent\"><img src=\"https://colab.research.google.com/assets/colab-badge.svg\" alt=\"Open In Colab\"/></a>"
      ]
    },
    {
      "cell_type": "markdown",
      "metadata": {
        "id": "vkZ2Wxw4ZEPA",
        "colab_type": "text"
      },
      "source": [
        "**imporing libraries**"
      ]
    },
    {
      "cell_type": "code",
      "metadata": {
        "id": "mkeKuG7SUjAD",
        "colab_type": "code",
        "colab": {
          "base_uri": "https://localhost:8080/",
          "height": 88
        },
        "outputId": "669709a2-3237-46e1-86be-e739dd1cff84"
      },
      "source": [
        "import numpy as np\n",
        "import pandas as pd\n",
        "import cv2\n",
        "import seaborn as sns\n",
        "import matplotlib.pyplot as plt\n",
        "import os\n",
        "%matplotlib inline\n",
        "\n",
        "from tensorflow.keras.preprocessing.image import ImageDataGenerator, load_img, img_to_array\n",
        "from tensorflow.keras.utils import plot_model\n",
        "import plotly.graph_objects as go\n",
        "from plotly.subplots import make_subplots\n",
        "from IPython.display import SVG, Image\n",
        "import tensorflow as tf\n",
        "print(\"Tensorflow version:\", tf.__version__)"
      ],
      "execution_count": null,
      "outputs": [
        {
          "output_type": "stream",
          "text": [
            "/usr/local/lib/python3.6/dist-packages/statsmodels/tools/_testing.py:19: FutureWarning: pandas.util.testing is deprecated. Use the functions in the public API at pandas.testing instead.\n",
            "  import pandas.util.testing as tm\n"
          ],
          "name": "stderr"
        },
        {
          "output_type": "stream",
          "text": [
            "Tensorflow version: 2.2.0\n"
          ],
          "name": "stdout"
        }
      ]
    },
    {
      "cell_type": "code",
      "metadata": {
        "id": "nuXLrkVhlv5k",
        "colab_type": "code",
        "colab": {
          "base_uri": "https://localhost:8080/",
          "height": 34
        },
        "outputId": "f754a6ba-34ce-4f22-bf9b-1109770c51c7"
      },
      "source": [
        "!unzip -q '/content/drive/My Drive/deep_learning/786787_1351797_bundle_archive.zip'\n",
        "!ls"
      ],
      "execution_count": 3,
      "outputs": [
        {
          "output_type": "stream",
          "text": [
            "drive  sample_data  test  train\n"
          ],
          "name": "stdout"
        }
      ]
    },
    {
      "cell_type": "markdown",
      "metadata": {
        "id": "8Y-99MpYZDHi",
        "colab_type": "text"
      },
      "source": [
        "# preprocessing data set:"
      ]
    },
    {
      "cell_type": "code",
      "metadata": {
        "id": "vx31SaQuG57k",
        "colab_type": "code",
        "colab": {
          "base_uri": "https://localhost:8080/",
          "height": 51
        },
        "outputId": "f067a7e2-bf11-4973-a061-f0273825caa5"
      },
      "source": [
        "img_size = 48\n",
        "batch_size = 64\n",
        "train_datagen = ImageDataGenerator(rescale=1.0/255.0, horizontal_flip=True)\n",
        "\n",
        "train_datagen = ImageDataGenerator(\n",
        "      rescale=1./255,\n",
        "      rotation_range=40,\n",
        "      horizontal_flip=True)\n",
        "\n",
        "test_datagen = ImageDataGenerator(rescale=1.0/255.0)\n",
        "\n",
        "train_generator = train_datagen.flow_from_directory(\"/content/train\", target_size = (img_size, img_size),\n",
        "                                             color_mode = 'grayscale',\n",
        "                                             batch_size = batch_size,\n",
        "                                             class_mode = 'categorical',\n",
        "                                             shuffle = True)\n",
        "\n",
        "test_generator = test_datagen.flow_from_directory(\"/content/test/\", target_size = (img_size, img_size),\n",
        "                                             color_mode = 'grayscale',\n",
        "                                             batch_size = batch_size,\n",
        "                                             class_mode = 'categorical',\n",
        "                                             shuffle = True)"
      ],
      "execution_count": null,
      "outputs": [
        {
          "output_type": "stream",
          "text": [
            "Found 28709 images belonging to 7 classes.\n",
            "Found 7178 images belonging to 7 classes.\n"
          ],
          "name": "stdout"
        }
      ]
    },
    {
      "cell_type": "markdown",
      "metadata": {
        "id": "k3nk_cdRfN_0",
        "colab_type": "text"
      },
      "source": [
        "# Building CNN"
      ]
    },
    {
      "cell_type": "code",
      "metadata": {
        "id": "1rfT5-Q9fUqo",
        "colab_type": "code",
        "colab": {}
      },
      "source": [
        "def my_model():\n",
        "  cnn = tf.keras.models.Sequential(\n",
        "  tf.keras.layers.Conv2D(64, (5,5), padding ='same', activation='relu', input_shape=(48,48,1)))\n",
        "  cnn.add(tf.keras.layers.Conv2D(64, (5,5),padding='same', activation='relu'))\n",
        "  cnn.add(tf.keras.layers.BatchNormalization())\n",
        "\n",
        "  cnn.add(tf.keras.layers.MaxPooling2D(pool_size=(2, 2), strides=2))\n",
        "\n",
        "  #,kernel_regularizer = tf.keras.regularizers.l2(0.01)cnn.add(tf.keras.layers.Dropout(0.2))\n",
        "  cnn.add(tf.keras.layers.Conv2D(128, (5,5),padding='same', activation='relu'))\n",
        "  cnn.add(tf.keras.layers.Conv2D(128, (5,5),padding='same', activation='relu'))\n",
        "  cnn.add(tf.keras.layers.BatchNormalization())\n",
        "  cnn.add(tf.keras.layers.MaxPooling2D(pool_size=(2, 2)))\n",
        "  \n",
        "  \n",
        "\n",
        "  #adding more layers\n",
        "  cnn.add(tf.keras.layers.Conv2D(256, (3,3), activation='relu'))\n",
        "  cnn.add(tf.keras.layers.Conv2D(256, (3,3), activation='relu'))\n",
        "  cnn.add(tf.keras.layers.BatchNormalization())\n",
        "  cnn.add(tf.keras.layers.Dropout(0.2))\n",
        "  cnn.add(tf.keras.layers.MaxPooling2D(pool_size=(2, 2),strides=2))\n",
        "\n",
        "\n",
        "\n",
        "  cnn.add(tf.keras.layers.Flatten())\n",
        "  cnn.add(tf.keras.layers.Dense(512))\n",
        "  #cnn.add(tf.keras.layers.MaxPooling2D(pool_size=(2, 2)))\n",
        "  cnn.add(tf.keras.layers.BatchNormalization())\n",
        "  cnn.add(tf.keras.layers.Activation('relu'))\n",
        "  cnn.add(tf.keras.layers.Dropout(0.25))\n",
        "  cnn.add(tf.keras.layers.Dense(7))\n",
        "  cnn.add(tf.keras.layers.Activation('softmax'))\n",
        "\n",
        "  return cnn\n"
      ],
      "execution_count": null,
      "outputs": []
    },
    {
      "cell_type": "markdown",
      "metadata": {
        "id": "ZrQmOKYzXIn4",
        "colab_type": "text"
      },
      "source": [
        "# compile and fit the model\n"
      ]
    },
    {
      "cell_type": "code",
      "metadata": {
        "id": "RBB7HlAdq3bi",
        "colab_type": "code",
        "colab": {
          "base_uri": "https://localhost:8080/",
          "height": 833
        },
        "outputId": "5e830ffd-796a-4d08-e829-2b1e39daa236"
      },
      "source": [
        "model = my_model()\n",
        "model.compile(optimizer=tf.keras.optimizers.Adam(lr=0.001, beta_1=0.9, beta_2=0.999, epsilon=1e-7),\n",
        "              loss=\"categorical_crossentropy\",\n",
        "              metrics=['accuracy'])\n",
        "model.summary()"
      ],
      "execution_count": null,
      "outputs": [
        {
          "output_type": "stream",
          "text": [
            "Model: \"sequential_13\"\n",
            "_________________________________________________________________\n",
            "Layer (type)                 Output Shape              Param #   \n",
            "=================================================================\n",
            "conv2d_74 (Conv2D)           (None, 48, 48, 64)        1664      \n",
            "_________________________________________________________________\n",
            "conv2d_75 (Conv2D)           (None, 48, 48, 64)        102464    \n",
            "_________________________________________________________________\n",
            "batch_normalization_51 (Batc (None, 48, 48, 64)        256       \n",
            "_________________________________________________________________\n",
            "max_pooling2d_39 (MaxPooling (None, 24, 24, 64)        0         \n",
            "_________________________________________________________________\n",
            "conv2d_76 (Conv2D)           (None, 24, 24, 128)       204928    \n",
            "_________________________________________________________________\n",
            "conv2d_77 (Conv2D)           (None, 24, 24, 128)       409728    \n",
            "_________________________________________________________________\n",
            "batch_normalization_52 (Batc (None, 24, 24, 128)       512       \n",
            "_________________________________________________________________\n",
            "max_pooling2d_40 (MaxPooling (None, 12, 12, 128)       0         \n",
            "_________________________________________________________________\n",
            "conv2d_78 (Conv2D)           (None, 10, 10, 256)       295168    \n",
            "_________________________________________________________________\n",
            "conv2d_79 (Conv2D)           (None, 8, 8, 256)         590080    \n",
            "_________________________________________________________________\n",
            "batch_normalization_53 (Batc (None, 8, 8, 256)         1024      \n",
            "_________________________________________________________________\n",
            "dropout_18 (Dropout)         (None, 8, 8, 256)         0         \n",
            "_________________________________________________________________\n",
            "max_pooling2d_41 (MaxPooling (None, 4, 4, 256)         0         \n",
            "_________________________________________________________________\n",
            "flatten_13 (Flatten)         (None, 4096)              0         \n",
            "_________________________________________________________________\n",
            "dense_25 (Dense)             (None, 512)               2097664   \n",
            "_________________________________________________________________\n",
            "batch_normalization_54 (Batc (None, 512)               2048      \n",
            "_________________________________________________________________\n",
            "activation_16 (Activation)   (None, 512)               0         \n",
            "_________________________________________________________________\n",
            "dropout_19 (Dropout)         (None, 512)               0         \n",
            "_________________________________________________________________\n",
            "dense_26 (Dense)             (None, 7)                 3591      \n",
            "_________________________________________________________________\n",
            "activation_17 (Activation)   (None, 7)                 0         \n",
            "=================================================================\n",
            "Total params: 3,709,127\n",
            "Trainable params: 3,707,207\n",
            "Non-trainable params: 1,920\n",
            "_________________________________________________________________\n"
          ],
          "name": "stdout"
        }
      ]
    },
    {
      "cell_type": "code",
      "metadata": {
        "id": "sHopZle-XSPU",
        "colab_type": "code",
        "colab": {
          "base_uri": "https://localhost:8080/",
          "height": 68
        },
        "outputId": "7a2819b0-263d-4284-eb4c-0840b9244986"
      },
      "source": [
        "print(train_generator.n)\n",
        "batch_size = 64\n",
        "steps_per_epoch = train_generator.n//train_generator.batch_size\n",
        "validation_steps = test_generator.n // test_generator.batch_size\n",
        "print(steps_per_epoch)\n",
        "print(validation_steps)"
      ],
      "execution_count": null,
      "outputs": [
        {
          "output_type": "stream",
          "text": [
            "28709\n",
            "448\n",
            "112\n"
          ],
          "name": "stdout"
        }
      ]
    },
    {
      "cell_type": "code",
      "metadata": {
        "id": "qLu6y6N7FOo1",
        "colab_type": "code",
        "colab": {
          "base_uri": "https://localhost:8080/",
          "height": 833
        },
        "outputId": "70eb2b96-1c91-4bd2-f6c5-2f2811a04de4"
      },
      "source": [
        "optm=tf.keras.optimizers.SGD(\n",
        "    learning_rate=0.01, momentum=0.0, nesterov=False, name=\"SGD\"\n",
        ")\n",
        "optm1= tf.keras.optimizers.Adam(lr=0.001, beta_1=0.9, beta_2=0.999, epsilon=1e-7)\n",
        "# Adadelta(lr=0.1, rho=0.95, epsilon=1e-08)\n",
        "model.compile(optimizer=optm1,\n",
        "              loss=\"categorical_crossentropy\",\n",
        "              metrics=['accuracy'])\n",
        "model.summary()"
      ],
      "execution_count": null,
      "outputs": [
        {
          "output_type": "stream",
          "text": [
            "Model: \"sequential_13\"\n",
            "_________________________________________________________________\n",
            "Layer (type)                 Output Shape              Param #   \n",
            "=================================================================\n",
            "conv2d_74 (Conv2D)           (None, 48, 48, 64)        1664      \n",
            "_________________________________________________________________\n",
            "conv2d_75 (Conv2D)           (None, 48, 48, 64)        102464    \n",
            "_________________________________________________________________\n",
            "batch_normalization_51 (Batc (None, 48, 48, 64)        256       \n",
            "_________________________________________________________________\n",
            "max_pooling2d_39 (MaxPooling (None, 24, 24, 64)        0         \n",
            "_________________________________________________________________\n",
            "conv2d_76 (Conv2D)           (None, 24, 24, 128)       204928    \n",
            "_________________________________________________________________\n",
            "conv2d_77 (Conv2D)           (None, 24, 24, 128)       409728    \n",
            "_________________________________________________________________\n",
            "batch_normalization_52 (Batc (None, 24, 24, 128)       512       \n",
            "_________________________________________________________________\n",
            "max_pooling2d_40 (MaxPooling (None, 12, 12, 128)       0         \n",
            "_________________________________________________________________\n",
            "conv2d_78 (Conv2D)           (None, 10, 10, 256)       295168    \n",
            "_________________________________________________________________\n",
            "conv2d_79 (Conv2D)           (None, 8, 8, 256)         590080    \n",
            "_________________________________________________________________\n",
            "batch_normalization_53 (Batc (None, 8, 8, 256)         1024      \n",
            "_________________________________________________________________\n",
            "dropout_18 (Dropout)         (None, 8, 8, 256)         0         \n",
            "_________________________________________________________________\n",
            "max_pooling2d_41 (MaxPooling (None, 4, 4, 256)         0         \n",
            "_________________________________________________________________\n",
            "flatten_13 (Flatten)         (None, 4096)              0         \n",
            "_________________________________________________________________\n",
            "dense_25 (Dense)             (None, 512)               2097664   \n",
            "_________________________________________________________________\n",
            "batch_normalization_54 (Batc (None, 512)               2048      \n",
            "_________________________________________________________________\n",
            "activation_16 (Activation)   (None, 512)               0         \n",
            "_________________________________________________________________\n",
            "dropout_19 (Dropout)         (None, 512)               0         \n",
            "_________________________________________________________________\n",
            "dense_26 (Dense)             (None, 7)                 3591      \n",
            "_________________________________________________________________\n",
            "activation_17 (Activation)   (None, 7)                 0         \n",
            "=================================================================\n",
            "Total params: 3,709,127\n",
            "Trainable params: 3,707,207\n",
            "Non-trainable params: 1,920\n",
            "_________________________________________________________________\n"
          ],
          "name": "stdout"
        }
      ]
    },
    {
      "cell_type": "code",
      "metadata": {
        "id": "zcjzIA4I3_jh",
        "colab_type": "code",
        "colab": {}
      },
      "source": [
        ""
      ],
      "execution_count": null,
      "outputs": []
    },
    {
      "cell_type": "markdown",
      "metadata": {
        "id": "4Ys58jiq4AO-",
        "colab_type": "text"
      },
      "source": [
        "# Try Another Model MibileNet"
      ]
    },
    {
      "cell_type": "code",
      "metadata": {
        "id": "3mQuUGX14ETR",
        "colab_type": "code",
        "colab": {}
      },
      "source": [
        "import re\n",
        "import gc\n",
        "import glob\n",
        "import keras\n",
        "import pandas as pd\n",
        "import numpy  as np\n",
        "\n",
        "import tensorflow as tf\n",
        "import plotly.express as px\n",
        "import matplotlib.pyplot as plt\n",
        "import plotly.graph_objects as go\n",
        "from plotly.subplots import make_subplots\n",
        "from sklearn.metrics import roc_curve, auc, multilabel_confusion_matrix\n",
        "\n",
        "\n",
        "import keras.backend as K\n",
        "from keras.models     import Sequential\n",
        "from keras.layers     import Dense, Dropout, GlobalMaxPooling2D\n",
        "from keras.optimizers import Adam, SGD\n",
        "from keras.applications import MobileNetV2\n",
        "from keras.callbacks    import ReduceLROnPlateau, ModelCheckpoint, EarlyStopping, CSVLogger\n",
        "from sklearn.model_selection   import train_test_split\n",
        "from keras.preprocessing.image import ImageDataGenerator\n",
        "\n",
        "np.random.seed(451)\n",
        "\n",
        "# General parameters\n",
        "batch_size = 64\n",
        "img_size = 48\n",
        "epochs     = 50\n",
        "\n",
        "\n",
        "\n",
        "train_generator = ImageDataGenerator(\n",
        "                    rescale     = 1./255,\n",
        "                    shear_range = 0.1,\n",
        "                    zoom_range  = 0.1,\n",
        "                    width_shift_range  = 0.1,\n",
        "                    height_shift_range = 0.1,\n",
        "                    horizontal_flip    = True)\n",
        "\n",
        "test_generator = ImageDataGenerator(rescale=1./255)\n",
        "\n"
      ],
      "execution_count": 33,
      "outputs": []
    },
    {
      "cell_type": "code",
      "metadata": {
        "id": "_c48AO6V4XMP",
        "colab_type": "code",
        "colab": {
          "base_uri": "https://localhost:8080/",
          "height": 51
        },
        "outputId": "20fc696d-c81f-4792-ee60-37fe5b1cc662"
      },
      "source": [
        "\n",
        "\n",
        "train_gen = train_generator.flow_from_directory(\"/content/train\",\n",
        "                                               \n",
        "                                             target_size=(48,48),\n",
        "                                             color_mode = 'rgb',\n",
        "                                             batch_size = batch_size,\n",
        "                                             class_mode = 'categorical',\n",
        "                                             shuffle = True,\n",
        "                                              seed=451)\n",
        "\n",
        "test_gen = test_generator.flow_from_directory(\"/content/test/\", \n",
        "                                              target_size=(48,48),\n",
        "                                             color_mode = 'rgb',\n",
        "                                             batch_size = batch_size,\n",
        "                                             class_mode = 'categorical',\n",
        "                                             shuffle = True,\n",
        "                                              seed=451)\n"
      ],
      "execution_count": 34,
      "outputs": [
        {
          "output_type": "stream",
          "text": [
            "Found 28709 images belonging to 7 classes.\n",
            "Found 7178 images belonging to 7 classes.\n"
          ],
          "name": "stdout"
        }
      ]
    },
    {
      "cell_type": "code",
      "metadata": {
        "id": "S7Jq7_-U_KOm",
        "colab_type": "code",
        "colab": {
          "base_uri": "https://localhost:8080/",
          "height": 377
        },
        "outputId": "c4f0f9c2-de66-46d1-ca89-c71d90d4a5f7"
      },
      "source": [
        "\n",
        "model = Sequential()\n",
        "model.add(MobileNetV2(input_shape=(48,48,3), weights='imagenet', include_top=False))\n",
        "model.add(GlobalMaxPooling2D())\n",
        "model.add(Dropout(0.5))\n",
        "model.add(Dense(7,activation='softmax'))\n",
        "model.compile(optimizer=Adam(lr=1e-4), loss='binary_crossentropy', metrics=['accuracy'])\n",
        "model.summary()"
      ],
      "execution_count": 35,
      "outputs": [
        {
          "output_type": "stream",
          "text": [
            "/usr/local/lib/python3.6/dist-packages/keras_applications/mobilenet_v2.py:294: UserWarning:\n",
            "\n",
            "`input_shape` is undefined or non-square, or `rows` is not in [96, 128, 160, 192, 224]. Weights for input shape (224, 224) will be loaded as the default.\n",
            "\n"
          ],
          "name": "stderr"
        },
        {
          "output_type": "stream",
          "text": [
            "Model: \"sequential_6\"\n",
            "_________________________________________________________________\n",
            "Layer (type)                 Output Shape              Param #   \n",
            "=================================================================\n",
            "mobilenetv2_1.00_224 (Model) (None, 2, 2, 1280)        2257984   \n",
            "_________________________________________________________________\n",
            "global_max_pooling2d_6 (Glob (None, 1280)              0         \n",
            "_________________________________________________________________\n",
            "dropout_6 (Dropout)          (None, 1280)              0         \n",
            "_________________________________________________________________\n",
            "dense_6 (Dense)              (None, 7)                 8967      \n",
            "=================================================================\n",
            "Total params: 2,266,951\n",
            "Trainable params: 2,232,839\n",
            "Non-trainable params: 34,112\n",
            "_________________________________________________________________\n"
          ],
          "name": "stdout"
        }
      ]
    },
    {
      "cell_type": "code",
      "metadata": {
        "id": "QC5vQ-Tx_iI1",
        "colab_type": "code",
        "colab": {
          "base_uri": "https://localhost:8080/",
          "height": 1000
        },
        "outputId": "f5df4a56-09ca-4d2a-99a8-ebaa803d1eff"
      },
      "source": [
        "another_model = model.fit(train_gen,\n",
        "                steps_per_epoch=28709 // batch_size,\n",
        "                epochs = 30,\n",
        "                validation_data=test_gen,\n",
        "                validation_steps=7178 // batch_size)"
      ],
      "execution_count": 37,
      "outputs": [
        {
          "output_type": "stream",
          "text": [
            "Epoch 1/30\n",
            "448/448 [==============================] - 79s 176ms/step - loss: 0.4761 - accuracy: 0.8355 - val_loss: 0.4184 - val_accuracy: 0.8121\n",
            "Epoch 2/30\n",
            "448/448 [==============================] - 55s 124ms/step - loss: 0.3783 - accuracy: 0.8585 - val_loss: 0.5146 - val_accuracy: 0.8258\n",
            "Epoch 3/30\n",
            "448/448 [==============================] - 55s 124ms/step - loss: 0.3640 - accuracy: 0.8623 - val_loss: 0.3732 - val_accuracy: 0.8570\n",
            "Epoch 4/30\n",
            "448/448 [==============================] - 58s 129ms/step - loss: 0.3495 - accuracy: 0.8667 - val_loss: 0.3357 - val_accuracy: 0.8615\n",
            "Epoch 5/30\n",
            "448/448 [==============================] - 58s 130ms/step - loss: 0.3389 - accuracy: 0.8695 - val_loss: 0.3341 - val_accuracy: 0.8647\n",
            "Epoch 6/30\n",
            "448/448 [==============================] - 58s 129ms/step - loss: 0.3335 - accuracy: 0.8713 - val_loss: 0.4840 - val_accuracy: 0.8525\n",
            "Epoch 7/30\n",
            "448/448 [==============================] - 57s 128ms/step - loss: 0.3259 - accuracy: 0.8729 - val_loss: 0.3814 - val_accuracy: 0.8738\n",
            "Epoch 8/30\n",
            "448/448 [==============================] - 57s 127ms/step - loss: 0.3148 - accuracy: 0.8769 - val_loss: 0.3092 - val_accuracy: 0.8758\n",
            "Epoch 9/30\n",
            "448/448 [==============================] - 59s 133ms/step - loss: 0.3073 - accuracy: 0.8784 - val_loss: 0.2529 - val_accuracy: 0.8771\n",
            "Epoch 10/30\n",
            "448/448 [==============================] - 58s 130ms/step - loss: 0.2995 - accuracy: 0.8815 - val_loss: 0.3225 - val_accuracy: 0.8755\n",
            "Epoch 11/30\n",
            "448/448 [==============================] - 58s 130ms/step - loss: 0.2918 - accuracy: 0.8832 - val_loss: 0.3394 - val_accuracy: 0.8776\n",
            "Epoch 12/30\n",
            "448/448 [==============================] - 59s 131ms/step - loss: 0.2848 - accuracy: 0.8859 - val_loss: 0.3291 - val_accuracy: 0.8826\n",
            "Epoch 13/30\n",
            "448/448 [==============================] - 57s 128ms/step - loss: 0.2784 - accuracy: 0.8883 - val_loss: 0.2815 - val_accuracy: 0.8832\n",
            "Epoch 14/30\n",
            "448/448 [==============================] - 59s 132ms/step - loss: 0.2727 - accuracy: 0.8901 - val_loss: 0.2376 - val_accuracy: 0.8853\n",
            "Epoch 15/30\n",
            "448/448 [==============================] - 59s 132ms/step - loss: 0.2669 - accuracy: 0.8910 - val_loss: 0.2147 - val_accuracy: 0.8897\n",
            "Epoch 16/30\n",
            "448/448 [==============================] - 58s 130ms/step - loss: 0.2608 - accuracy: 0.8932 - val_loss: 0.3163 - val_accuracy: 0.8884\n",
            "Epoch 17/30\n",
            "448/448 [==============================] - 58s 130ms/step - loss: 0.2557 - accuracy: 0.8957 - val_loss: 0.2762 - val_accuracy: 0.8927\n",
            "Epoch 18/30\n",
            "448/448 [==============================] - 57s 128ms/step - loss: 0.2520 - accuracy: 0.8971 - val_loss: 0.2756 - val_accuracy: 0.8917\n",
            "Epoch 19/30\n",
            "448/448 [==============================] - 57s 128ms/step - loss: 0.2460 - accuracy: 0.8991 - val_loss: 0.2630 - val_accuracy: 0.8915\n",
            "Epoch 20/30\n",
            "448/448 [==============================] - 57s 127ms/step - loss: 0.2415 - accuracy: 0.9014 - val_loss: 0.3027 - val_accuracy: 0.8953\n",
            "Epoch 21/30\n",
            "448/448 [==============================] - 57s 128ms/step - loss: 0.2373 - accuracy: 0.9028 - val_loss: 0.2299 - val_accuracy: 0.8940\n",
            "Epoch 22/30\n",
            "448/448 [==============================] - 58s 128ms/step - loss: 0.2330 - accuracy: 0.9044 - val_loss: 0.2783 - val_accuracy: 0.8931\n",
            "Epoch 23/30\n",
            "448/448 [==============================] - 57s 127ms/step - loss: 0.2294 - accuracy: 0.9059 - val_loss: 0.2842 - val_accuracy: 0.8891\n",
            "Epoch 24/30\n",
            "448/448 [==============================] - 57s 127ms/step - loss: 0.2246 - accuracy: 0.9078 - val_loss: 0.2424 - val_accuracy: 0.8933\n",
            "Epoch 25/30\n",
            "448/448 [==============================] - 57s 127ms/step - loss: 0.2186 - accuracy: 0.9104 - val_loss: 0.2554 - val_accuracy: 0.8921\n",
            "Epoch 26/30\n",
            "448/448 [==============================] - 56s 126ms/step - loss: 0.2177 - accuracy: 0.9112 - val_loss: 0.2216 - val_accuracy: 0.8953\n",
            "Epoch 27/30\n",
            "448/448 [==============================] - 57s 126ms/step - loss: 0.2113 - accuracy: 0.9129 - val_loss: 0.2928 - val_accuracy: 0.8928\n",
            "Epoch 28/30\n",
            "448/448 [==============================] - 57s 127ms/step - loss: 0.2081 - accuracy: 0.9153 - val_loss: 0.2762 - val_accuracy: 0.8945\n",
            "Epoch 29/30\n",
            "448/448 [==============================] - 56s 124ms/step - loss: 0.2037 - accuracy: 0.9166 - val_loss: 0.3293 - val_accuracy: 0.8964\n",
            "Epoch 30/30\n",
            "448/448 [==============================] - 56s 124ms/step - loss: 0.2004 - accuracy: 0.9184 - val_loss: 0.2742 - val_accuracy: 0.8951\n"
          ],
          "name": "stdout"
        }
      ]
    },
    {
      "cell_type": "code",
      "metadata": {
        "id": "8BXviRG0lsdx",
        "colab_type": "code",
        "colab": {}
      },
      "source": [
        "model.save_weights('emotion_model_mobilenet2D.h5')\n",
        "!ls"
      ],
      "execution_count": null,
      "outputs": []
    },
    {
      "cell_type": "code",
      "metadata": {
        "id": "OOSVnQthXSXe",
        "colab_type": "code",
        "colab": {
          "base_uri": "https://localhost:8080/",
          "height": 1000
        },
        "outputId": "4bdac3b2-e234-42a0-cf24-156149af5ff7"
      },
      "source": [
        "#compile and fit the model\n",
        "#cnn.compile(optimizer = 'adam', loss = 'binary_crossentropy', metrics = ['accuracy'])\n",
        "model.fit(train_generator,\n",
        "        epochs = 30,\n",
        "        batch_size=64,\n",
        "        verbose=1,\n",
        "        validation_data = test_generator,\n",
        "        shuffle=True)"
      ],
      "execution_count": null,
      "outputs": [
        {
          "output_type": "stream",
          "text": [
            "Epoch 1/30\n",
            "449/449 [==============================] - 20s 44ms/step - loss: 0.5850 - accuracy: 0.7857 - val_loss: 1.0767 - val_accuracy: 0.6630\n",
            "Epoch 2/30\n",
            "449/449 [==============================] - 20s 44ms/step - loss: 0.5759 - accuracy: 0.7893 - val_loss: 1.1243 - val_accuracy: 0.6500\n",
            "Epoch 3/30\n",
            "449/449 [==============================] - 20s 44ms/step - loss: 0.5599 - accuracy: 0.7961 - val_loss: 1.1111 - val_accuracy: 0.6629\n",
            "Epoch 4/30\n",
            "449/449 [==============================] - 20s 44ms/step - loss: 0.5570 - accuracy: 0.7940 - val_loss: 1.1248 - val_accuracy: 0.6641\n",
            "Epoch 5/30\n",
            "449/449 [==============================] - 20s 44ms/step - loss: 0.5421 - accuracy: 0.7984 - val_loss: 1.1495 - val_accuracy: 0.6456\n",
            "Epoch 6/30\n",
            "449/449 [==============================] - 20s 44ms/step - loss: 0.5319 - accuracy: 0.8035 - val_loss: 1.1394 - val_accuracy: 0.6608\n",
            "Epoch 7/30\n",
            "449/449 [==============================] - 19s 43ms/step - loss: 0.5246 - accuracy: 0.8072 - val_loss: 1.1360 - val_accuracy: 0.6581\n",
            "Epoch 8/30\n",
            "449/449 [==============================] - 19s 43ms/step - loss: 0.5160 - accuracy: 0.8109 - val_loss: 1.1359 - val_accuracy: 0.6597\n",
            "Epoch 9/30\n",
            "449/449 [==============================] - 19s 43ms/step - loss: 0.5108 - accuracy: 0.8121 - val_loss: 1.1640 - val_accuracy: 0.6539\n",
            "Epoch 10/30\n",
            "449/449 [==============================] - 19s 43ms/step - loss: 0.4981 - accuracy: 0.8181 - val_loss: 1.1796 - val_accuracy: 0.6583\n",
            "Epoch 11/30\n",
            "449/449 [==============================] - 19s 42ms/step - loss: 0.4918 - accuracy: 0.8199 - val_loss: 1.1954 - val_accuracy: 0.6496\n",
            "Epoch 12/30\n",
            "449/449 [==============================] - 19s 42ms/step - loss: 0.4883 - accuracy: 0.8211 - val_loss: 1.1728 - val_accuracy: 0.6609\n",
            "Epoch 13/30\n",
            "449/449 [==============================] - 19s 42ms/step - loss: 0.4818 - accuracy: 0.8243 - val_loss: 1.2135 - val_accuracy: 0.6542\n",
            "Epoch 14/30\n",
            "449/449 [==============================] - 19s 42ms/step - loss: 0.4766 - accuracy: 0.8252 - val_loss: 1.1794 - val_accuracy: 0.6548\n",
            "Epoch 15/30\n",
            "449/449 [==============================] - 19s 43ms/step - loss: 0.4606 - accuracy: 0.8350 - val_loss: 1.1686 - val_accuracy: 0.6669\n",
            "Epoch 16/30\n",
            "449/449 [==============================] - 19s 43ms/step - loss: 0.4582 - accuracy: 0.8340 - val_loss: 1.1848 - val_accuracy: 0.6640\n",
            "Epoch 17/30\n",
            "449/449 [==============================] - 19s 43ms/step - loss: 0.4490 - accuracy: 0.8364 - val_loss: 1.2547 - val_accuracy: 0.6546\n",
            "Epoch 18/30\n",
            "449/449 [==============================] - 19s 43ms/step - loss: 0.4350 - accuracy: 0.8399 - val_loss: 1.2320 - val_accuracy: 0.6661\n",
            "Epoch 19/30\n",
            "449/449 [==============================] - 20s 44ms/step - loss: 0.4322 - accuracy: 0.8402 - val_loss: 1.2254 - val_accuracy: 0.6718\n",
            "Epoch 20/30\n",
            "449/449 [==============================] - 19s 43ms/step - loss: 0.4355 - accuracy: 0.8404 - val_loss: 1.2165 - val_accuracy: 0.6605\n",
            "Epoch 21/30\n",
            "449/449 [==============================] - 19s 43ms/step - loss: 0.4213 - accuracy: 0.8438 - val_loss: 1.2184 - val_accuracy: 0.6613\n",
            "Epoch 22/30\n",
            "449/449 [==============================] - 19s 43ms/step - loss: 0.4200 - accuracy: 0.8467 - val_loss: 1.2693 - val_accuracy: 0.6661\n",
            "Epoch 23/30\n",
            "449/449 [==============================] - 20s 44ms/step - loss: 0.4043 - accuracy: 0.8509 - val_loss: 1.2147 - val_accuracy: 0.6637\n",
            "Epoch 24/30\n",
            "449/449 [==============================] - 20s 44ms/step - loss: 0.4079 - accuracy: 0.8501 - val_loss: 1.3302 - val_accuracy: 0.6530\n",
            "Epoch 25/30\n",
            "449/449 [==============================] - 20s 44ms/step - loss: 0.4047 - accuracy: 0.8518 - val_loss: 1.2617 - val_accuracy: 0.6679\n",
            "Epoch 26/30\n",
            "449/449 [==============================] - 20s 44ms/step - loss: 0.3965 - accuracy: 0.8542 - val_loss: 1.2612 - val_accuracy: 0.6663\n",
            "Epoch 27/30\n",
            "449/449 [==============================] - 20s 44ms/step - loss: 0.3906 - accuracy: 0.8556 - val_loss: 1.3433 - val_accuracy: 0.6439\n",
            "Epoch 28/30\n",
            "449/449 [==============================] - 20s 44ms/step - loss: 0.3824 - accuracy: 0.8608 - val_loss: 1.2668 - val_accuracy: 0.6551\n",
            "Epoch 29/30\n",
            "449/449 [==============================] - 20s 44ms/step - loss: 0.3852 - accuracy: 0.8579 - val_loss: 1.2681 - val_accuracy: 0.6622\n",
            "Epoch 30/30\n",
            "449/449 [==============================] - 20s 45ms/step - loss: 0.3686 - accuracy: 0.8639 - val_loss: 1.3136 - val_accuracy: 0.6627\n"
          ],
          "name": "stdout"
        },
        {
          "output_type": "execute_result",
          "data": {
            "text/plain": [
              "<tensorflow.python.keras.callbacks.History at 0x7f3e0c6206d8>"
            ]
          },
          "metadata": {
            "tags": []
          },
          "execution_count": 69
        }
      ]
    },
    {
      "cell_type": "code",
      "metadata": {
        "id": "EGV1dxOZ4qWy",
        "colab_type": "code",
        "colab": {
          "base_uri": "https://localhost:8080/",
          "height": 51
        },
        "outputId": "96b787b7-6a08-45fe-b643-398682b8c324"
      },
      "source": [
        "#save the model weihgt\n",
        "model.save_weights('emotion_model.h5')\n",
        "!ls"
      ],
      "execution_count": null,
      "outputs": [
        {
          "output_type": "stream",
          "text": [
            "ananya.jpg  emotion_model.h5  face2.jpg  face5.jpg    test\n",
            "drive\t    face1.jpg\t      face4.jpg  sample_data  train\n"
          ],
          "name": "stdout"
        }
      ]
    },
    {
      "cell_type": "code",
      "metadata": {
        "id": "VJwCIUU0lD5l",
        "colab_type": "code",
        "colab": {}
      },
      "source": [
        "emotions = ['angry', 'disgust', 'fear', 'happy', 'sad', 'surprise', 'neutral']"
      ],
      "execution_count": null,
      "outputs": []
    },
    {
      "cell_type": "code",
      "metadata": {
        "id": "0BRnqPiDjzCl",
        "colab_type": "code",
        "colab": {
          "base_uri": "https://localhost:8080/",
          "height": 320
        },
        "outputId": "fbf84277-b487-43df-efa7-2845e21f7ea5"
      },
      "source": [
        "import keras\n",
        "from skimage import io\n",
        "from tensorflow.keras.preprocessing.image import ImageDataGenerator, load_img, img_to_array\n",
        "img = keras.preprocessing.image.load_img(\n",
        "    \"/content/face6.jpg\", color_mode='grayscale', target_size=(48,48)\n",
        ")\n",
        "show_img = keras.preprocessing.image.load_img(\n",
        "    \"/content/face6.jpg\", color_mode='rgba', target_size=(250,250)\n",
        ")\n",
        "img_array = keras.preprocessing.image.img_to_array(img)\n",
        "img_array = tf.expand_dims(img_array, 0)  # Create batch axis\n",
        "\n",
        "predictions = model.predict(img_array)\n",
        "print(predictions)\n",
        "maxindex = int(np.argmax(predictions)) \n",
        "print(maxindex)\n",
        "score = predictions[0]\n",
        "#print(int(np.argmax(score)))\n",
        "\n",
        "#emotion_analysis(score)\n",
        "plt.imshow(show_img)\n",
        "plt.show()\n",
        "      \n",
        "print('Expression Prediction:',emotions[maxindex])\n",
        "        "
      ],
      "execution_count": null,
      "outputs": [
        {
          "output_type": "stream",
          "text": [
            "[[1. 0. 0. 0. 0. 0. 0.]]\n",
            "0\n"
          ],
          "name": "stdout"
        },
        {
          "output_type": "display_data",
          "data": {
            "image/png": "[encoded data removed]",
            "text/plain": [
              "<Figure size 432x288 with 1 Axes>"
            ]
          },
          "metadata": {
            "tags": [],
            "needs_background": "light"
          }
        },
        {
          "output_type": "stream",
          "text": [
            "Expression Prediction: angry\n"
          ],
          "name": "stdout"
        }
      ]
    },
    {
      "cell_type": "code",
      "metadata": {
        "id": "l4OyD8RNjzFl",
        "colab_type": "code",
        "colab": {}
      },
      "source": [
        ""
      ],
      "execution_count": null,
      "outputs": []
    }
  ]
}